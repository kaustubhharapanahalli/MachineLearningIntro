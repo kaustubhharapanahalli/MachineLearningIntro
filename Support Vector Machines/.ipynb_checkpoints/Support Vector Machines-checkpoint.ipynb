{
 "cells": [
  {
   "cell_type": "code",
   "execution_count": 1,
   "metadata": {
    "collapsed": true
   },
   "outputs": [],
   "source": [
    "import numpy as np\n",
    "import pandas as pd\n",
    "import matplotlib.pyplot as plt\n",
    "\n",
    "%matplotlib inline"
   ]
  },
  {
   "cell_type": "code",
   "execution_count": 2,
   "metadata": {},
   "outputs": [
    {
     "data": {
      "text/html": [
       "<div>\n",
       "<style>\n",
       "    .dataframe thead tr:only-child th {\n",
       "        text-align: right;\n",
       "    }\n",
       "\n",
       "    .dataframe thead th {\n",
       "        text-align: left;\n",
       "    }\n",
       "\n",
       "    .dataframe tbody tr th {\n",
       "        vertical-align: top;\n",
       "    }\n",
       "</style>\n",
       "<table border=\"1\" class=\"dataframe\">\n",
       "  <thead>\n",
       "    <tr style=\"text-align: right;\">\n",
       "      <th></th>\n",
       "      <th>User ID</th>\n",
       "      <th>Gender</th>\n",
       "      <th>Age</th>\n",
       "      <th>EstimatedSalary</th>\n",
       "      <th>Purchased</th>\n",
       "    </tr>\n",
       "  </thead>\n",
       "  <tbody>\n",
       "    <tr>\n",
       "      <th>0</th>\n",
       "      <td>15624510</td>\n",
       "      <td>Male</td>\n",
       "      <td>19</td>\n",
       "      <td>19000</td>\n",
       "      <td>0</td>\n",
       "    </tr>\n",
       "    <tr>\n",
       "      <th>1</th>\n",
       "      <td>15810944</td>\n",
       "      <td>Male</td>\n",
       "      <td>35</td>\n",
       "      <td>20000</td>\n",
       "      <td>0</td>\n",
       "    </tr>\n",
       "    <tr>\n",
       "      <th>2</th>\n",
       "      <td>15668575</td>\n",
       "      <td>Female</td>\n",
       "      <td>26</td>\n",
       "      <td>43000</td>\n",
       "      <td>0</td>\n",
       "    </tr>\n",
       "    <tr>\n",
       "      <th>3</th>\n",
       "      <td>15603246</td>\n",
       "      <td>Female</td>\n",
       "      <td>27</td>\n",
       "      <td>57000</td>\n",
       "      <td>0</td>\n",
       "    </tr>\n",
       "    <tr>\n",
       "      <th>4</th>\n",
       "      <td>15804002</td>\n",
       "      <td>Male</td>\n",
       "      <td>19</td>\n",
       "      <td>76000</td>\n",
       "      <td>0</td>\n",
       "    </tr>\n",
       "    <tr>\n",
       "      <th>5</th>\n",
       "      <td>15728773</td>\n",
       "      <td>Male</td>\n",
       "      <td>27</td>\n",
       "      <td>58000</td>\n",
       "      <td>0</td>\n",
       "    </tr>\n",
       "    <tr>\n",
       "      <th>6</th>\n",
       "      <td>15598044</td>\n",
       "      <td>Female</td>\n",
       "      <td>27</td>\n",
       "      <td>84000</td>\n",
       "      <td>0</td>\n",
       "    </tr>\n",
       "    <tr>\n",
       "      <th>7</th>\n",
       "      <td>15694829</td>\n",
       "      <td>Female</td>\n",
       "      <td>32</td>\n",
       "      <td>150000</td>\n",
       "      <td>1</td>\n",
       "    </tr>\n",
       "    <tr>\n",
       "      <th>8</th>\n",
       "      <td>15600575</td>\n",
       "      <td>Male</td>\n",
       "      <td>25</td>\n",
       "      <td>33000</td>\n",
       "      <td>0</td>\n",
       "    </tr>\n",
       "    <tr>\n",
       "      <th>9</th>\n",
       "      <td>15727311</td>\n",
       "      <td>Female</td>\n",
       "      <td>35</td>\n",
       "      <td>65000</td>\n",
       "      <td>0</td>\n",
       "    </tr>\n",
       "  </tbody>\n",
       "</table>\n",
       "</div>"
      ],
      "text/plain": [
       "    User ID  Gender  Age  EstimatedSalary  Purchased\n",
       "0  15624510    Male   19            19000          0\n",
       "1  15810944    Male   35            20000          0\n",
       "2  15668575  Female   26            43000          0\n",
       "3  15603246  Female   27            57000          0\n",
       "4  15804002    Male   19            76000          0\n",
       "5  15728773    Male   27            58000          0\n",
       "6  15598044  Female   27            84000          0\n",
       "7  15694829  Female   32           150000          1\n",
       "8  15600575    Male   25            33000          0\n",
       "9  15727311  Female   35            65000          0"
      ]
     },
     "execution_count": 2,
     "metadata": {},
     "output_type": "execute_result"
    }
   ],
   "source": [
    "data = pd.read_csv(\"Social_Network_Ads.csv\")\n",
    "data = pd.DataFrame(data)\n",
    "data.head(10)"
   ]
  },
  {
   "cell_type": "code",
   "execution_count": 3,
   "metadata": {
    "collapsed": true
   },
   "outputs": [],
   "source": [
    "data.Gender = data.Gender.replace('Male', 1)\n",
    "data.Gender = data.Gender.replace(\"Female\", 0)"
   ]
  },
  {
   "cell_type": "code",
   "execution_count": 4,
   "metadata": {
    "collapsed": true
   },
   "outputs": [],
   "source": [
    "Y = data[\"Purchased\"]"
   ]
  },
  {
   "cell_type": "code",
   "execution_count": 5,
   "metadata": {
    "collapsed": true
   },
   "outputs": [],
   "source": [
    "X1 = data[\"EstimatedSalary\"]\n",
    "X2 = data[\"Age\"]\n",
    "\n",
    "X1 = X1/X1.mean()\n",
    "X2 = X2/X2.mean()\n",
    "\n",
    "X = pd.concat([X1, X2], axis=1)\n",
    "X = np.array(X)"
   ]
  },
  {
   "cell_type": "code",
   "execution_count": 6,
   "metadata": {},
   "outputs": [
    {
     "data": {
      "image/png": "[encoded data removed]",
      "text/plain": [
       "<matplotlib.figure.Figure at 0x1802a0b15c0>"
      ]
     },
     "metadata": {},
     "output_type": "display_data"
    }
   ],
   "source": [
    "for i in range(len(Y)):\n",
    "    if int(Y[i]) == 1:\n",
    "        plt.scatter(X[i][0], X[i][1], marker='.', c='r')\n",
    "    else:\n",
    "        plt.scatter(X[i][0], X[i][1], marker='.', c='b')"
   ]
  },
  {
   "cell_type": "code",
   "execution_count": 7,
   "metadata": {},
   "outputs": [
    {
     "name": "stdout",
     "output_type": "stream",
     "text": [
      "Count of 0's : 257,\n",
      "Count of 1's : 143\n"
     ]
    }
   ],
   "source": [
    "count_1 = 0\n",
    "count_0 = 0\n",
    "for i in range(len(X)):\n",
    "    if Y[i] == 1:\n",
    "        count_1 += 1\n",
    "    else:\n",
    "        count_0 += 1\n",
    "print(f\"Count of 0's : {count_0},\\nCount of 1's : {count_1}\")"
   ]
  },
  {
   "cell_type": "code",
   "execution_count": null,
   "metadata": {
    "collapsed": true
   },
   "outputs": [],
   "source": [
    "postiveX=[]\n",
    "negativeX=[]\n",
    "for i,v in enumerate(y):\n",
    "    if v==0:\n",
    "        negativeX.append(X[i])\n",
    "    else:\n",
    "        postiveX.append(X[i])\n",
    "\n",
    "#our data dictionary\n",
    "data_dict = {-1:np.array(negativeX), 1:np.array(postiveX)}\n",
    "print(data_dict)"
   ]
  },
  {
   "cell_type": "code",
   "execution_count": null,
   "metadata": {
    "collapsed": true
   },
   "outputs": [],
   "source": [
    "class SupportVectorMachine:\n",
    "    def __init__(self, visualization=True):\n",
    "        self.visualization = visualization\n",
    "        self.colors = {1:'r', -1:'b'}\n",
    "        \n",
    "        if self.visualization:\n",
    "            self.fig = plt.figure()\n",
    "            self.ax = self.fig.add_subplot(111)\n",
    "    \n",
    "    def fit(self, data):\n",
    "        self.data = data\n",
    "        \n",
    "        opt_dict = {}\n",
    "        \n",
    "        transforms = [[1,1],\n",
    "                      [1,-1],\n",
    "                      [-1,1],\n",
    "                     [-1,-1]]\n",
    "        \n",
    "        all_data = []\n",
    "        \n",
    "        for yi in self.data:\n",
    "            for featureset in self.data[yi]:\n",
    "                for feature in featureset:\n",
    "                    all_data.append(feature)\n",
    "                    \n",
    "        self.max_feature_value = max(all_data)\n",
    "        self.min_feature_value = min(all_data)\n",
    "        all_data = None\n",
    "                \n",
    "        step_sizes = [self.max_feature_value * 0.1,\n",
    "                      self.max_feature_value * 0.01,\n",
    "                      self.max_feature_value * 0.001]\n",
    "        \n",
    "        b_range_multiple = 5\n",
    "        \n",
    "        b_multiple = 5\n",
    "        \n",
    "        latest_optimum = self.max_feature_value*10\n",
    "        \n",
    "        for step in step_sizes:\n",
    "            w = np.array([latest_optimum,latest_optimum])\n",
    "            optimized = False\n",
    "            \n",
    "            while not optimized:\n",
    "                for b in np.arange(-1*(self.max_feature_value*b_range_multiple),\n",
    "                                   self.max_feature_value*b_range_multiple,\n",
    "                                   step*b_multiple):\n",
    "                    for transformations in transforms:\n",
    "                        w_t = w*transformations\n",
    "                        found_option = True\n",
    "                        \n",
    "                        for i in self.data:\n",
    "                            for xi in self.data[i]:\n",
    "                                yi=i\n",
    "                                if not yi*(np.dot(w_t,xi)+b) >= 1:\n",
    "                                    found_option = False\n",
    "                                    \n",
    "                        if found_option:\n",
    "                            opt_dict[np.linalg.norm(w_t)] = [w_t,b]\n",
    "                \n",
    "                if w[0] < 0:\n",
    "                    optimized = True\n",
    "                    print(\"optimized a step\")\n",
    "                else:\n",
    "                    w = w - step\n",
    "            \n",
    "            norms = sorted([n for n in opt_dict])\n",
    "            \n",
    "            opt_choice = opt_dict[norms[0]]\n",
    "            \n",
    "            self.w = opt_choice[0]\n",
    "            self.b = opt_choice[1]\n",
    "            \n",
    "            latest_optimum = opt_choice[0][0] + step*2\n",
    "            \n",
    "                \n",
    "    \n",
    "    def predict(self, features):\n",
    "        classification = np.sign(np.dot(np.array(features),self.w ) + self.b)\n",
    "        \n",
    "        if classification != 0 and self.visualization:\n",
    "            self.ax.scatter(features[0], features[1], s=10, marker='*', c=self.colors[classification])\n",
    "                \n",
    "        return classification\n",
    "    \n",
    "    def visualize(self):\n",
    "        [[self.ax.scatter(x[0], x[1], s=10, color=self.colors[i]) for x in data_dict[i]] for i in data_dict]\n",
    "        \n",
    "        def hyperplane(x,w,b,v):\n",
    "            return (-w[0]*x - b + v ) / w[1]\n",
    "        \n",
    "        datarange = (self.min_feature_value*0.9, self.max_feature_value*1.1)\n",
    "        \n",
    "        hyp_x_min = datarange[0]\n",
    "        hyp_x_max = datarange[1]\n",
    "        \n",
    "        psv1 = hyperplane(hyp_x_min, self.w, self.b, 1)\n",
    "        psv2 = hyperplane(hyp_x_max, self.w, self.b, 1)\n",
    "        \n",
    "        self.ax.plot([hyp_x_min, hyp_x_max], [psv1, psv2], 'k')\n",
    "        \n",
    "        ################################################\n",
    "        \n",
    "        nsv1 = hyperplane(hyp_x_min, self.w, self.b, -1)\n",
    "        nsv2 = hyperplane(hyp_x_max, self.w, self.b, -1)\n",
    "        \n",
    "        self.ax.plot([hyp_x_min, hyp_x_max], [nsv1, nsv2], 'k')\n",
    "\n",
    "        ################################################\n",
    "        \n",
    "        db1 = hyperplane(hyp_x_min, self.w, self.b, 0)\n",
    "        db2 = hyperplane(hyp_x_max, self.w, self.b, 0)\n",
    "        \n",
    "        self.ax.plot([hyp_x_min, hyp_x_max], [db1, db2], 'y--') \n",
    "        \n",
    "        plt.show()\n",
    "        "
   ]
  },
  {
   "cell_type": "code",
   "execution_count": 8,
   "metadata": {},
   "outputs": [],
   "source": [
    "# def svm_sgd_plot(x, y):\n",
    "#     #Initialize our SVMs weight vector with zeros (3 values)\n",
    "#     w = np.zeros(len(x[0]))\n",
    "#     #The learning rate\n",
    "#     eta = 1\n",
    "#     #how many iterations to train for\n",
    "#     epochs = 100000\n",
    "#     #store misclassifications so we can plot how they change over time\n",
    "#     errors = []\n",
    "\n",
    "#     #training part, gradient descent part\n",
    "#     for epoch in range(1,epochs):\n",
    "#         error = 0\n",
    "#         for i, v in enumerate(x):\n",
    "#             #misclassification\n",
    "#             if (y[i]*np.dot(x[i], w)) < 1:\n",
    "#                 #misclassified update for ours weights\n",
    "#                 w = w + eta * ( (x[i] * y[i]) + (-2  *(1/epoch)* w) )\n",
    "#                 error = 1\n",
    "#             else:\n",
    "#                 #correct classification, update our weights\n",
    "#                 w = w + eta * (-2  *(1/epoch)* w)\n",
    "#         errors.append(error)\n",
    "# #         if epoch % 1000 == 0:\n",
    "# #             print(f\"W: {w}\")\n",
    "    \n",
    "#     plt.plot(errors, '|')\n",
    "#     plt.ylim(0.5,1.5)\n",
    "#     plt.axes().set_yticklabels([])\n",
    "#     plt.xlabel('Epoch')\n",
    "#     plt.ylabel('Misclassified')\n",
    "#     plt.show()\n",
    "\n",
    "#     return w"
   ]
  },
  {
   "cell_type": "code",
   "execution_count": null,
   "metadata": {
    "scrolled": false
   },
   "outputs": [],
   "source": [
    "w = svm_sgd_plot(X,Y)\n",
    "print(w)"
   ]
  },
  {
   "cell_type": "code",
   "execution_count": null,
   "metadata": {},
   "outputs": [],
   "source": [
    "for i in range(len(Y)):\n",
    "    if int(Y[i]) == 1:\n",
    "        plt.scatter(X[i][0], X[i][1], marker='.', c='r')\n",
    "    else:\n",
    "        plt.scatter(X[i][0], X[i][1], marker='.', c='b')\n",
    "# Print the hyperplane calculated by svm_sgd()\n",
    "x2=[w[0],w[1],-w[1],w[0]]\n",
    "x3=[w[0],w[1],w[1],-w[0]]\n",
    "\n",
    "x2x3 =np.array([x2,x3])\n",
    "A,B,U,V = zip(*x2x3)\n",
    "ax = plt.gca()\n",
    "ax.quiver(A,B,U,V,scale=1, color='blue')"
   ]
  },
  {
   "cell_type": "code",
   "execution_count": null,
   "metadata": {
    "collapsed": true
   },
   "outputs": [],
   "source": [
    "svm = SupportVectorMachine()\n",
    "svm.fit(data=data_dict)\n",
    "\n",
    "predict_us = [[0,10],\n",
    "              [1,3],\n",
    "              [3,4],\n",
    "              [3,5],\n",
    "              [5,5],\n",
    "              [5,6],\n",
    "              [6,-5],\n",
    "              [5,8]]\n",
    "\n",
    "for p in predict_us:\n",
    "    svm.predict(p)\n",
    "\n",
    "svm.visualize()"
   ]
  }
 ],
 "metadata": {
  "kernelspec": {
   "display_name": "Python 3",
   "language": "python",
   "name": "python3"
  },
  "language_info": {
   "codemirror_mode": {
    "name": "ipython",
    "version": 3
   },
   "file_extension": ".py",
   "mimetype": "text/x-python",
   "name": "python",
   "nbconvert_exporter": "python",
   "pygments_lexer": "ipython3",
   "version": "3.6.3"
  }
 },
 "nbformat": 4,
 "nbformat_minor": 2
}
