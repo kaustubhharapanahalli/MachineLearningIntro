{
 "cells": [
  {
   "cell_type": "code",
   "execution_count": 1,
   "metadata": {
    "collapsed": true
   },
   "outputs": [],
   "source": [
    "import numpy as np\n",
    "import pandas as pd"
   ]
  },
  {
   "cell_type": "code",
   "execution_count": 2,
   "metadata": {},
   "outputs": [
    {
     "name": "stdout",
     "output_type": "stream",
     "text": [
      "[[0 0 0]\n",
      " [0 0 1]\n",
      " [0 1 0]\n",
      " [0 1 1]\n",
      " [1 1 0]\n",
      " [1 0 0]]\n",
      "[[0]\n",
      " [1]\n",
      " [1]\n",
      " [1]\n",
      " [1]\n",
      " [1]]\n"
     ]
    }
   ],
   "source": [
    "input_data=np.array([[0,0,0],\n",
    "                    [0,0,1],\n",
    "                    [0,1,0],\n",
    "                     [0,1,1],\n",
    "                     [1,1,0],\n",
    "                    [1,0,0]])\n",
    "output_labels= np.array([[0],\n",
    "       [1],\n",
    "       [1],\n",
    "       [1],\n",
    "        [1],\n",
    "       [1]])\n",
    "print(input_data)\n",
    "print(output_labels)"
   ]
  },
  {
   "cell_type": "code",
   "execution_count": 3,
   "metadata": {
    "collapsed": true
   },
   "outputs": [],
   "source": [
    "def activate(x):\n",
    "    return 1/(1+np.exp(-x))"
   ]
  },
  {
   "cell_type": "code",
   "execution_count": 4,
   "metadata": {
    "collapsed": true
   },
   "outputs": [],
   "source": [
    "def transfer_derivative(output):\n",
    "    return output*(1-output)"
   ]
  },
  {
   "cell_type": "code",
   "execution_count": 5,
   "metadata": {
    "collapsed": true
   },
   "outputs": [],
   "source": [
    "np.random.seed(4)\n",
    "w0=np.random.random((3,4))-1\n",
    "w1=np.random.random((4,1))-1\n"
   ]
  },
  {
   "cell_type": "code",
   "execution_count": 6,
   "metadata": {
    "collapsed": true
   },
   "outputs": [],
   "source": [
    "def feed_forward(input_data):\n",
    "    layer0=input_data\n",
    "    layer1=activate(np.dot(layer0,w0))\n",
    "    layer2=activate(np.dot(layer1,w1))\n",
    "    \n",
    "    return layer0,layer1,layer2"
   ]
  },
  {
   "cell_type": "code",
   "execution_count": 7,
   "metadata": {
    "collapsed": true
   },
   "outputs": [],
   "source": [
    "def backpropogate(j,layer0,layer1,layer2,w1,w0):\n",
    "    l2_error=output_labels-layer2\n",
    "    if(j%1000)==0:\n",
    "        print(\"error:\"+ str(np.mean(np.abs(l2_error))))\n",
    "        \n",
    "    l2_grad=l2_error*transfer_derivative(layer2)\n",
    "    \n",
    "    l1_error=l2_grad.dot(w1.T)\n",
    "    l1_grad=l1_error*transfer_derivative(layer1)\n",
    "    \n",
    "    w1 += layer1.T.dot(l2_grad)\n",
    "    w0 += layer0.T.dot(l1_grad)"
   ]
  },
  {
   "cell_type": "code",
   "execution_count": 8,
   "metadata": {},
   "outputs": [
    {
     "name": "stdout",
     "output_type": "stream",
     "text": [
      "error:0.5861251707975204\n",
      "error:0.025303446800603136\n",
      "error:0.016099174952408146\n",
      "error:0.012540929538995715\n",
      "error:0.010557510880838792\n",
      "error:0.00926058124567451\n",
      "error:0.008331991019767249\n",
      "error:0.007626898552563176\n",
      "error:0.0070689958360640555\n",
      "error:0.0066138857438192205\n"
     ]
    }
   ],
   "source": [
    "for i in range(10000):\n",
    "    layer0,layer1,layer2=feed_forward(input_data)\n",
    "    backpropogate(i,layer0,layer1,layer2,w1,w0)"
   ]
  },
  {
   "cell_type": "code",
   "execution_count": 9,
   "metadata": {
    "collapsed": true
   },
   "outputs": [],
   "source": [
    "layer0,layer1,layer2=feed_forward([[0,0,0]])"
   ]
  },
  {
   "cell_type": "code",
   "execution_count": 10,
   "metadata": {},
   "outputs": [
    {
     "name": "stdout",
     "output_type": "stream",
     "text": [
      "[[0.01407826]]\n"
     ]
    }
   ],
   "source": [
    "print(layer2)"
   ]
  },
  {
   "cell_type": "code",
   "execution_count": null,
   "metadata": {
    "collapsed": true
   },
   "outputs": [],
   "source": []
  }
 ],
 "metadata": {
  "kernelspec": {
   "display_name": "Python 3",
   "language": "python",
   "name": "python3"
  },
  "language_info": {
   "codemirror_mode": {
    "name": "ipython",
    "version": 3
   },
   "file_extension": ".py",
   "mimetype": "text/x-python",
   "name": "python",
   "nbconvert_exporter": "python",
   "pygments_lexer": "ipython3",
   "version": "3.6.3"
  }
 },
 "nbformat": 4,
 "nbformat_minor": 2
}
