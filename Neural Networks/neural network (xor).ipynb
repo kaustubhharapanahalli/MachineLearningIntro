{
 "cells": [
  {
   "cell_type": "code",
   "execution_count": 41,
   "metadata": {},
   "outputs": [],
   "source": [
    "import numpy as np\n",
    "import pandas as pd"
   ]
  },
  {
   "cell_type": "code",
   "execution_count": 51,
   "metadata": {},
   "outputs": [
    {
     "name": "stdout",
     "output_type": "stream",
     "text": [
      "[[0 0 0]\n",
      " [0 0 1]\n",
      " [0 1 0]\n",
      " [0 1 1]\n",
      " [1 1 0]]\n",
      "[[0]\n",
      " [1]\n",
      " [1]\n",
      " [0]\n",
      " [0]]\n"
     ]
    }
   ],
   "source": [
    "input_data=np.array([[0,0,0],\n",
    "                    [0,0,1],\n",
    "                    [0,1,0],\n",
    "                     [0,1,1],\n",
    "                    [1,1,0]])\n",
    "output_labels= np.array([[0],\n",
    "       [1],\n",
    "       [1],\n",
    "       [0],\n",
    "       [0]])\n",
    "print(input_data)\n",
    "print(output_labels)"
   ]
  },
  {
   "cell_type": "code",
   "execution_count": 52,
   "metadata": {},
   "outputs": [],
   "source": [
    "def activate(x):\n",
    "    return 1/(1+np.exp(-x))"
   ]
  },
  {
   "cell_type": "code",
   "execution_count": 53,
   "metadata": {},
   "outputs": [],
   "source": [
    "def transfer_derivative(output):\n",
    "    return output*(1-output)"
   ]
  },
  {
   "cell_type": "code",
   "execution_count": 54,
   "metadata": {},
   "outputs": [
    {
     "name": "stdout",
     "output_type": "stream",
     "text": [
      "[[0.96702984 0.54723225 0.97268436 0.71481599 0.69772882]\n",
      " [0.2160895  0.97627445 0.00623026 0.25298236 0.43479153]\n",
      " [0.77938292 0.19768507 0.86299324 0.98340068 0.16384224]]\n",
      "[[0.59733394]\n",
      " [0.0089861 ]\n",
      " [0.38657128]\n",
      " [0.04416006]\n",
      " [0.95665297]]\n"
     ]
    }
   ],
   "source": [
    "np.random.seed(4)\n",
    "w0=np.random.random((3,5))\n",
    "w1=np.random.random((5,1))\n",
    "print(w0)\n",
    "print(w1)"
   ]
  },
  {
   "cell_type": "code",
   "execution_count": 55,
   "metadata": {},
   "outputs": [],
   "source": [
    "def feed_forward(input_data):\n",
    "    layer0=input_data\n",
    "    layer1=activate(np.dot(layer0,w0))\n",
    "    layer2=activate(np.dot(layer1,w1))\n",
    "    \n",
    "    return layer0,layer1,layer2\n"
   ]
  },
  {
   "cell_type": "code",
   "execution_count": 56,
   "metadata": {},
   "outputs": [],
   "source": [
    "def backpropogate(j,layer0,layer1,layer2,w1,w0):\n",
    "    l2_error=output_labels-layer2\n",
    "    if(j%1000)==0:\n",
    "        print(\"error:\"+ str(np.mean(np.abs(l2_error))))\n",
    "        \n",
    "    l2_grad=l2_error*transfer_derivative(layer2)\n",
    "    \n",
    "    l1_error=l2_grad.dot(w1.T)\n",
    "    l1_grad=l1_error*transfer_derivative(layer1)\n",
    "    \n",
    "    w1 += layer1.T.dot(l2_grad)\n",
    "    w0 += layer0.T.dot(l1_grad)\n",
    "    \n",
    "    "
   ]
  },
  {
   "cell_type": "code",
   "execution_count": 60,
   "metadata": {},
   "outputs": [
    {
     "name": "stdout",
     "output_type": "stream",
     "text": [
      "error:0.014998149482668935\n",
      "error:0.014218154814036706\n",
      "error:0.0135396629345646\n",
      "error:0.012942029742134185\n",
      "error:0.012410063244638546\n",
      "error:0.01193230636128739\n",
      "error:0.011499936536977947\n",
      "error:0.011106036544164918\n",
      "error:0.01074509715922144\n",
      "error:0.010412669417610128\n"
     ]
    }
   ],
   "source": [
    "for i in range(10000):\n",
    "    layer0,layer1,layer2=feed_forward(input_data)\n",
    "    backpropogate(i,layer0,layer1,layer2,w1,w0)"
   ]
  },
  {
   "cell_type": "code",
   "execution_count": 64,
   "metadata": {},
   "outputs": [],
   "source": [
    "layer0,layer1,layer2=feed_forward([[1,1,1]])"
   ]
  },
  {
   "cell_type": "code",
   "execution_count": 65,
   "metadata": {},
   "outputs": [
    {
     "name": "stdout",
     "output_type": "stream",
     "text": [
      "[[0.00072236]]\n"
     ]
    }
   ],
   "source": [
    "print(layer2)"
   ]
  },
  {
   "cell_type": "code",
   "execution_count": null,
   "metadata": {},
   "outputs": [],
   "source": []
  }
 ],
 "metadata": {
  "kernelspec": {
   "display_name": "Python 3",
   "language": "python",
   "name": "python3"
  },
  "language_info": {
   "codemirror_mode": {
    "name": "ipython",
    "version": 3
   },
   "file_extension": ".py",
   "mimetype": "text/x-python",
   "name": "python",
   "nbconvert_exporter": "python",
   "pygments_lexer": "ipython3",
   "version": "3.6.5"
  }
 },
 "nbformat": 4,
 "nbformat_minor": 2
}
