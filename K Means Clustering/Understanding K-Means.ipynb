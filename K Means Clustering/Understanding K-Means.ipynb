{
 "cells": [
  {
   "cell_type": "code",
   "execution_count": 1,
   "metadata": {
    "collapsed": true
   },
   "outputs": [],
   "source": [
    "import pandas as pd\n",
    "import numpy as np\n",
    "import matplotlib.pyplot as plt\n",
    "\n",
    "%matplotlib inline"
   ]
  },
  {
   "cell_type": "code",
   "execution_count": 2,
   "metadata": {
    "collapsed": true
   },
   "outputs": [],
   "source": [
    "k = 2\n",
    "tol = 0.001\n",
    "max_iter = 300"
   ]
  },
  {
   "cell_type": "code",
   "execution_count": 3,
   "metadata": {
    "collapsed": true
   },
   "outputs": [],
   "source": [
    "colors = 10*[\"g\",\"r\",\"c\",\"b\",\"k\",'y']"
   ]
  },
  {
   "cell_type": "code",
   "execution_count": 4,
   "metadata": {
    "collapsed": true
   },
   "outputs": [],
   "source": [
    "def fit(data,k,max_iter,tol):\n",
    "\n",
    "    centroids = {}\n",
    "    for i in range(k):\n",
    "        centroids[i] = data[i]\n",
    "\n",
    "    for i in range(max_iter):\n",
    "        classifications = {}\n",
    "\n",
    "        for i in range(k):\n",
    "            classifications[i] = []\n",
    "\n",
    "        for featureset in data:\n",
    "            distances = [np.linalg.norm(featureset-centroids[centroid]) for centroid in centroids]\n",
    "            print(f\"distances: {distances}\")\n",
    "            print(\"=\"*50)\n",
    "            classification = distances.index(min(distances))\n",
    "            classifications[classification].append(featureset)\n",
    "\n",
    "        prev_centroids = dict(centroids)\n",
    "        print(\"\\n\")\n",
    "        print(\"=\"*50)\n",
    "        print(f\"prev_centroids: {prev_centroids}\")\n",
    "        print(\"\\n\")\n",
    "        print(\"=\"*50)\n",
    "\n",
    "        for classification in classifications:\n",
    "            centroids[classification] = np.average(classifications[classification],axis=0)\n",
    "\n",
    "        optimized = True\n",
    "        print(\"\\n\")\n",
    "        print(\"=\"*50)\n",
    "        print(f\"centroids: {centroids}\")\n",
    "        print(\"\\n\")\n",
    "        print(\"=\"*50)\n",
    "        \n",
    "        for c in centroids:\n",
    "            original_centroid = prev_centroids[c]\n",
    "            current_centroid = centroids[c]\n",
    "            if np.sum((current_centroid-original_centroid)/original_centroid*100.0) > tol:\n",
    "                print(np.sum((current_centroid-original_centroid)/original_centroid*100.0))\n",
    "                optimized = False\n",
    "\n",
    "        if optimized:\n",
    "            break\n",
    "    return centroids, classifications\n",
    "\n",
    "def predict(data,centroids):\n",
    "    distances = [np.linalg.norm(data-centroids[centroid]) for centroid in centroids]\n",
    "    classification = distances.index(min(distances))\n",
    "    return classification  "
   ]
  },
  {
   "cell_type": "code",
   "execution_count": 5,
   "metadata": {},
   "outputs": [
    {
     "data": {
      "image/png": "[encoded data removed]",
      "text/plain": [
       "<matplotlib.figure.Figure at 0x26ea38f6a20>"
      ]
     },
     "metadata": {},
     "output_type": "display_data"
    }
   ],
   "source": [
    "X = np.array([[1, 2],\n",
    "              [1.5, 1.8],\n",
    "              [5, 8 ],\n",
    "              [8, 8],\n",
    "              [1, 0.6],\n",
    "              [9,11]])\n",
    "\n",
    "plt.scatter(X[:,0], X[:,1], s=150)\n",
    "plt.show()"
   ]
  },
  {
   "cell_type": "code",
   "execution_count": 6,
   "metadata": {},
   "outputs": [
    {
     "name": "stdout",
     "output_type": "stream",
     "text": [
      "distances: [0.0, 0.5385164807134504]\n",
      "==================================================\n",
      "distances: [0.5385164807134504, 0.0]\n",
      "==================================================\n",
      "distances: [7.211102550927978, 7.119691004531026]\n",
      "==================================================\n",
      "distances: [9.219544457292887, 8.98276126811795]\n",
      "==================================================\n",
      "distances: [1.4, 1.3]\n",
      "==================================================\n",
      "distances: [12.041594578792296, 11.869709347747316]\n",
      "==================================================\n",
      "\n",
      "\n",
      "==================================================\n",
      "prev_centroids: {0: array([1., 2.]), 1: array([1.5, 1.8])}\n",
      "\n",
      "\n",
      "==================================================\n",
      "\n",
      "\n",
      "==================================================\n",
      "centroids: {0: array([1., 2.]), 1: array([4.9 , 5.88])}\n",
      "\n",
      "\n",
      "==================================================\n",
      "453.3333333333334\n",
      "distances: [0.0, 5.501308935153525]\n",
      "==================================================\n",
      "distances: [0.5385164807134504, 5.310969779616526]\n",
      "==================================================\n",
      "distances: [7.211102550927978, 2.1223571801183696]\n",
      "==================================================\n",
      "distances: [9.219544457292887, 3.7555825114088486]\n",
      "==================================================\n",
      "distances: [1.4, 6.564175500396072]\n",
      "==================================================\n",
      "distances: [12.041594578792296, 6.559298743005992]\n",
      "==================================================\n",
      "\n",
      "\n",
      "==================================================\n",
      "prev_centroids: {0: array([1., 2.]), 1: array([4.9 , 5.88])}\n",
      "\n",
      "\n",
      "==================================================\n",
      "\n",
      "\n",
      "==================================================\n",
      "centroids: {0: array([1.16666667, 1.46666667]), 1: array([7.33333333, 9.        ])}\n",
      "\n",
      "\n",
      "==================================================\n",
      "102.72108843537411\n",
      "distances: [0.5587684871413404, 9.439868172337532]\n",
      "==================================================\n",
      "distances: [0.47140452079103173, 9.266486808806118]\n",
      "==================================================\n",
      "distances: [7.574885404340378, 2.5385910352879693]\n",
      "==================================================\n",
      "distances: [9.454040876201503, 1.2018504251546633]\n",
      "==================================================\n",
      "distances: [0.8825468196582483, 10.52003379800232]\n",
      "==================================================\n",
      "distances: [12.338782579961263, 2.6034165586355518]\n",
      "==================================================\n",
      "\n",
      "\n",
      "==================================================\n",
      "prev_centroids: {0: array([1.16666667, 1.46666667]), 1: array([7.33333333, 9.        ])}\n",
      "\n",
      "\n",
      "==================================================\n",
      "\n",
      "\n",
      "==================================================\n",
      "centroids: {0: array([1.16666667, 1.46666667]), 1: array([7.33333333, 9.        ])}\n",
      "\n",
      "\n",
      "==================================================\n"
     ]
    }
   ],
   "source": [
    "centroids, classifications = fit(X,k,max_iter,tol)"
   ]
  },
  {
   "cell_type": "code",
   "execution_count": 7,
   "metadata": {},
   "outputs": [
    {
     "data": {
      "image/png": "[encoded data removed]",
      "text/plain": [
       "<matplotlib.figure.Figure at 0x26ea3c37b38>"
      ]
     },
     "metadata": {},
     "output_type": "display_data"
    }
   ],
   "source": [
    "for centroid in centroids:\n",
    "    plt.scatter(centroids[centroid][0], centroids[centroid][1], marker='o', color='k', s=50)\n",
    "\n",
    "for classification in classifications:\n",
    "    color = colors[classification]\n",
    "    for featureset in classifications[classification]:\n",
    "        plt.scatter(featureset[0], featureset[1], marker='.', color=color, s=50)\n",
    "\n",
    "xtest = np.array([[1,3],\n",
    "                  [8,9],\n",
    "                  [0,3],\n",
    "                  [5,4],\n",
    "                  [6,4]])\n",
    "\n",
    "for unknown in xtest:\n",
    "    classification = predict(unknown,centroids)\n",
    "    plt.scatter(unknown[0], unknown[1], marker='*', color=colors[classification], s=50)"
   ]
  },
  {
   "cell_type": "code",
   "execution_count": null,
   "metadata": {
    "collapsed": true
   },
   "outputs": [],
   "source": []
  }
 ],
 "metadata": {
  "kernelspec": {
   "display_name": "Python 3",
   "language": "python",
   "name": "python3"
  },
  "language_info": {
   "codemirror_mode": {
    "name": "ipython",
    "version": 3
   },
   "file_extension": ".py",
   "mimetype": "text/x-python",
   "name": "python",
   "nbconvert_exporter": "python",
   "pygments_lexer": "ipython3",
   "version": "3.6.3"
  },
  "varInspector": {
   "cols": {
    "lenName": 16,
    "lenType": 16,
    "lenVar": 40
   },
   "kernels_config": {
    "python": {
     "delete_cmd_postfix": "",
     "delete_cmd_prefix": "del ",
     "library": "var_list.py",
     "varRefreshCmd": "print(var_dic_list())"
    },
    "r": {
     "delete_cmd_postfix": ") ",
     "delete_cmd_prefix": "rm(",
     "library": "var_list.r",
     "varRefreshCmd": "cat(var_dic_list()) "
    }
   },
   "types_to_exclude": [
    "module",
    "function",
    "builtin_function_or_method",
    "instance",
    "_Feature"
   ],
   "window_display": false
  }
 },
 "nbformat": 4,
 "nbformat_minor": 2
}
