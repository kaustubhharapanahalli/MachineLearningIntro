{
 "cells": [
  {
   "cell_type": "code",
   "execution_count": 1,
   "metadata": {
    "collapsed": true
   },
   "outputs": [],
   "source": [
    "import pandas as pd\n",
    "import numpy as np\n",
    "import matplotlib.pyplot as plt\n",
    "from sklearn.model_selection import train_test_split\n",
    "\n",
    "from sklearn.datasets import load_wine\n",
    "\n",
    "%matplotlib inline"
   ]
  },
  {
   "cell_type": "code",
   "execution_count": 2,
   "metadata": {
    "collapsed": true
   },
   "outputs": [],
   "source": [
    "k = 3\n",
    "tol = 0.001 #tolerance - by how much percentage the centroid is going to move\n",
    "max_iter = 300"
   ]
  },
  {
   "cell_type": "code",
   "execution_count": 3,
   "metadata": {
    "collapsed": true
   },
   "outputs": [],
   "source": [
    "colors = 10*[\"g\",\"r\",\"c\",\"b\",\"k\",'y']"
   ]
  },
  {
   "cell_type": "code",
   "execution_count": 5,
   "metadata": {},
   "outputs": [],
   "source": [
    "# Fit function is written to train the centroids. Basically we are going to find the centroid position with the help of this function\n",
    "def fit(data,k,max_iter,tol):\n",
    "\n",
    "    centroids = {} # creating an empty dictionary to keep track of the centroid values\n",
    "\n",
    "    for i in range(k): \n",
    "        centroids[i] = data[i] # Assigning the initial centroid values based on the input data. Here, since the k value is 3, the first 3 values of the data is assigned as centroid\n",
    "\n",
    "    for i in range(max_iter):\n",
    "        classifications = {} # creating an empty dictionary to keep track of which all points belong to which centroid.\n",
    "\n",
    "        for i in range(k):\n",
    "            classifications[i] = [] # we are creating 3 empty lists for each class. The classification dictionary is going to look something like this classifications = {0:[], 1:[], 2:[]}\n",
    "        for featureset in data: # We are going to go through every data point present. \n",
    "\n",
    "            # Here we are calculating the distance of each data point from all the three centroids \n",
    "            # and then we are finding the minimum value amongst the calculated distance. The centroid \n",
    "            # which gives us the minimum value is assigned with that data point\n",
    "\n",
    "            distances = [np.linalg.norm(featureset-centroids[centroid]) for centroid in centroids] \n",
    "            classification = distances.index(min(distances)) # This gives the index value of the position in the list, where the minimum value is present. This index value gives us the index value\n",
    "            classifications[classification].append(featureset) # Appending the minimum value to the respective index value\n",
    "        prev_centroids = dict(centroids) # Assigning the current centroid values to a new dictionary called prev_centroid as the value of the centroid is going to change\n",
    "\n",
    "        # Here we are going to update the centroid value by calculating the average of all the data values that are assigned to that particular class\n",
    "        for classification in classifications:\n",
    "            centroids[classification] = np.average(classifications[classification],axis=0)\n",
    "\n",
    "        optimized = True\n",
    "\n",
    "        # In this for loop we are going to calculate by what degree or by what value has the centroid moved. \n",
    "        for c in centroids: # Calculating the degree of change for each centroid \n",
    "            original_centroid = prev_centroids[c]\n",
    "            current_centroid = centroids[c]\n",
    "\n",
    "            # the sum operation is summing up the values in the list. We have to perform the sum to basically \n",
    "            # calculate the total degree of change and it becomes easy for us to compare with the tolerance value.\n",
    "            # This sum value is compared with the tolerance value. If the tolerance value is less than the sum, then the cycle is continued. \n",
    "            # This cycle of operation is carried out until the sum value goes less than the tolerance value.\n",
    "\n",
    "            if np.sum((current_centroid-original_centroid)/original_centroid*100.0) > tol: \n",
    "                optimized = False\n",
    "\n",
    "        if optimized:\n",
    "            break\n",
    "    return centroids, classifications\n",
    "\n",
    "# Here we are going to predict to which a particular given data point belongs to\n",
    "def predict(data,centroids):\n",
    "    distances = [np.linalg.norm(data-centroids[centroid]) for centroid in centroids]\n",
    "    classification = distances.index(min(distances))\n",
    "    return classification"
   ]
  },
  {
   "cell_type": "code",
   "execution_count": 6,
   "metadata": {
    "collapsed": true
   },
   "outputs": [],
   "source": [
    "wine = load_wine()\n",
    "X = pd.DataFrame(wine.data, columns=wine.feature_names)\n",
    "Y = pd.DataFrame(wine.target, columns=['target'])"
   ]
  },
  {
   "cell_type": "code",
   "execution_count": 7,
   "metadata": {
    "collapsed": true
   },
   "outputs": [],
   "source": [
    "X = (X-X.min()) / (X.max()-X.min())"
   ]
  },
  {
   "cell_type": "code",
   "execution_count": 8,
   "metadata": {
    "collapsed": true
   },
   "outputs": [],
   "source": [
    "xtrain, xtest, ytrain, ytest = train_test_split(X,Y, test_size=0.3)"
   ]
  },
  {
   "cell_type": "code",
   "execution_count": 9,
   "metadata": {
    "collapsed": true
   },
   "outputs": [],
   "source": [
    "f1 = 'hue'\n",
    "f2 = 'proline'\n",
    "basex = np.array(xtrain[[f1, f2]])\n",
    "basey = np.array(ytrain['target'])\n",
    "\n",
    "xtest = np.array(xtest[[f1, f2]])\n",
    "ytest = np.array(ytest['target'])"
   ]
  },
  {
   "cell_type": "code",
   "execution_count": 10,
   "metadata": {
    "collapsed": true
   },
   "outputs": [],
   "source": [
    "x = pd.DataFrame(basex)\n",
    "y = basey"
   ]
  },
  {
   "cell_type": "code",
   "execution_count": 12,
   "metadata": {},
   "outputs": [],
   "source": [
    "centroids, classifications = fit(basex,k,max_iter,tol)"
   ]
  },
  {
   "cell_type": "code",
   "execution_count": 19,
   "metadata": {},
   "outputs": [
    {
     "data": {
      "image/png": "[encoded data removed]",
      "text/plain": [
       "<matplotlib.figure.Figure at 0x1d4c0b2ba20>"
      ]
     },
     "metadata": {},
     "output_type": "display_data"
    }
   ],
   "source": [
    "for centroid in centroids:\n",
    "    plt.scatter(centroids[centroid][0], centroids[centroid][1], marker='o', color='k', s=50)\n",
    "\n",
    "for classification in classifications:\n",
    "    color = colors[classification]\n",
    "    for next_datapoint in classifications[classification]:\n",
    "        plt.scatter(next_datapoint[0], next_datapoint[1], marker='o', color=color, s=50)\n",
    "\n",
    "for unknown in xtest:\n",
    "    classification = predict(unknown,centroids)\n",
    "    plt.scatter(unknown[0], unknown[1], marker='*', color=colors[classification], s=75)"
   ]
  },
  {
   "cell_type": "code",
   "execution_count": 20,
   "metadata": {},
   "outputs": [
    {
     "data": {
      "text/plain": [
       "<matplotlib.collections.PathCollection at 0x1d4c0f55128>"
      ]
     },
     "execution_count": 20,
     "metadata": {},
     "output_type": "execute_result"
    },
    {
     "data": {
      "image/png": "[encoded data removed]",
      "text/plain": [
       "<matplotlib.figure.Figure at 0x1d4c0041320>"
      ]
     },
     "metadata": {},
     "output_type": "display_data"
    }
   ],
   "source": [
    "plt.scatter(x.iloc[:,0], x.iloc[:,1], c=y, s=15)"
   ]
  },
  {
   "cell_type": "code",
   "execution_count": null,
   "metadata": {
    "collapsed": true
   },
   "outputs": [],
   "source": []
  }
 ],
 "metadata": {
  "kernelspec": {
   "display_name": "Python 3",
   "language": "python",
   "name": "python3"
  },
  "language_info": {
   "codemirror_mode": {
    "name": "ipython",
    "version": 3
   },
   "file_extension": ".py",
   "mimetype": "text/x-python",
   "name": "python",
   "nbconvert_exporter": "python",
   "pygments_lexer": "ipython3",
   "version": "3.6.3"
  },
  "varInspector": {
   "cols": {
    "lenName": 16,
    "lenType": 16,
    "lenVar": 40
   },
   "kernels_config": {
    "python": {
     "delete_cmd_postfix": "",
     "delete_cmd_prefix": "del ",
     "library": "var_list.py",
     "varRefreshCmd": "print(var_dic_list())"
    },
    "r": {
     "delete_cmd_postfix": ") ",
     "delete_cmd_prefix": "rm(",
     "library": "var_list.r",
     "varRefreshCmd": "cat(var_dic_list()) "
    }
   },
   "types_to_exclude": [
    "module",
    "function",
    "builtin_function_or_method",
    "instance",
    "_Feature"
   ],
   "window_display": false
  }
 },
 "nbformat": 4,
 "nbformat_minor": 2
}
